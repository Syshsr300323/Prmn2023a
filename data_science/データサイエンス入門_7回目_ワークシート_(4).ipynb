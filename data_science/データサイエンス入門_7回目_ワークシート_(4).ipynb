{
  "nbformat": 4,
  "nbformat_minor": 0,
  "metadata": {
    "colab": {
      "provenance": [],
      "include_colab_link": true
    },
    "kernelspec": {
      "name": "python3",
      "display_name": "Python 3"
    },
    "language_info": {
      "name": "python"
    }
  },
  "cells": [
    {
      "cell_type": "markdown",
      "metadata": {
        "id": "view-in-github",
        "colab_type": "text"
      },
      "source": [
        "<a href=\"https://colab.research.google.com/github/Syshsr300323/Prmn2023a/blob/main/data_science/%E3%83%87%E3%83%BC%E3%82%BF%E3%82%B5%E3%82%A4%E3%82%A8%E3%83%B3%E3%82%B9%E5%85%A5%E9%96%80_7%E5%9B%9E%E7%9B%AE_%E3%83%AF%E3%83%BC%E3%82%AF%E3%82%B7%E3%83%BC%E3%83%88_(4).ipynb\" target=\"_parent\"><img src=\"https://colab.research.google.com/assets/colab-badge.svg\" alt=\"Open In Colab\"/></a>"
      ]
    },
    {
      "cell_type": "markdown",
      "source": [
        "# 学習目標\n",
        "　データサイエンスでは多量なデータを操作して統計処理や機械学習による何らかの手法を用いて分析を行います。これまでにデータの操作について学んできました。ここからはデータを分析する手法について学びます。この授業回では、データサイエンスで一般的に行われる教師あり学習の手法のひとつである重回帰を学びます。重回帰はすでに実装が一般的に行われており、ライブラリとして提供されています。本ワークシートでは、ライブラリを活用して重回帰による分析ができるようになることを目標とします。\n",
        "今回の実習は例題はなく、課題のみから構成されます。重回帰の理論については講義ビデオを見て学んでください。ライブラリの活用については使用するメソッド名などのキーワードを提示しますので、ネット上には解説記事が多数ありますので検索して各自調べながら取り組んでください。"
      ],
      "metadata": {
        "id": "e5ogjY_QXbjs"
      }
    },
    {
      "cell_type": "markdown",
      "source": [
        "# 1. 導入"
      ],
      "metadata": {
        "id": "DiTdNBUCnItQ"
      }
    },
    {
      "cell_type": "markdown",
      "source": [
        "## 1-1. 概要"
      ],
      "metadata": {
        "id": "jaPWGbkjntgW"
      }
    },
    {
      "cell_type": "markdown",
      "source": [
        "健康に関わるデータから重回帰による分析を試みます。\n",
        "データの項目は「体重」と「摂取したカロリー」と「お酒を飲んだ量」とします。\n",
        "このデータから、「ある日の体重」は「前の日の体重」「摂取したカロリー」「お酒を飲んだ量」から求められると仮定して重回帰のモデルを構築して性能を評価します。"
      ],
      "metadata": {
        "id": "3TGjqQUhoHO9"
      }
    },
    {
      "cell_type": "markdown",
      "source": [
        "## 1-2. ライブラリのインポート"
      ],
      "metadata": {
        "id": "90MjLVRdn1G6"
      }
    },
    {
      "cell_type": "markdown",
      "source": [
        "分析に必要なライブラリをインポートします。\n",
        "必要なライブラリは「データの読込・操作を行うライブラリ」「重回帰のライブラリ」です。\n",
        "\n",
        " - データの読込・操作を行うライブラリ：Pandas\n",
        " - 重回帰のライブラリ：Scikit-learnのLinearRegression\n",
        "\n",
        "\n",
        "```python\n",
        "# データの加工・処理・分析ライブラリ\n",
        "import pandas as pd\n",
        "\n",
        "# 重回帰のライブラリのインポート\n",
        "from sklearn.linear_model import LinearRegression\n",
        "```"
      ],
      "metadata": {
        "id": "GpgTbcvmciXw"
      }
    },
    {
      "cell_type": "code",
      "source": [
        "# このセルにライブラリのインポートを記述して実行\n",
        "import pandas as pd\n",
        "from sklearn.linear_model import LinearRegression\n"
      ],
      "metadata": {
        "id": "lWMwE3LhczUA"
      },
      "execution_count": null,
      "outputs": []
    },
    {
      "cell_type": "markdown",
      "source": [
        "# 2. データ"
      ],
      "metadata": {
        "id": "6btD5TKkX0Vr"
      }
    },
    {
      "cell_type": "markdown",
      "source": [
        "今回使うデータはポータルからファイルを配布しています。\n",
        "ファイル名は「health_data.csv」です。\n",
        "\n",
        "まずは、csvファイルを読み込んでデータを操作できるようにしましょう。\n",
        "データを操作できるようにするには、csvファイルを pandas の DaraFrame として読み込みます。読み込み方法はこれまでの授業で扱っていますので必要に応じて動画やワークシートを参照してください。\n",
        "\n",
        "データの項目は、前述の通りに、前日の体重、摂取カロリー、飲酒量、体重です。\n",
        "csvファイルのカラム名は「前日の体重」から順番に previous, calory, drinking, weight です。"
      ],
      "metadata": {
        "id": "_AZuucK7pUMj"
      }
    },
    {
      "cell_type": "code",
      "source": [
        "# CSVデータを pandas の DataFrame オブジェクト df として読み込み\n",
        "df=pd.read_csv('health_data.csv')"
      ],
      "metadata": {
        "id": "am22n-Sadk_R"
      },
      "execution_count": null,
      "outputs": []
    },
    {
      "cell_type": "markdown",
      "source": [
        "まずは df の中身を確認してみましょう。以下のセルにdfの中身を表示するプログラムを記述して実行して下さい。"
      ],
      "metadata": {
        "id": "n-h1qxQStxeG"
      }
    },
    {
      "cell_type": "markdown",
      "source": [
        "## 2-1 データを表示"
      ],
      "metadata": {
        "id": "PGowP2c-cVoH"
      }
    },
    {
      "cell_type": "code",
      "source": [
        "# df を表示\n",
        "print(df)"
      ],
      "metadata": {
        "id": "3B4od6siu4Yb",
        "colab": {
          "base_uri": "https://localhost:8080/"
        },
        "outputId": "7576e6ba-8a8f-4f2d-fbbb-4386e3d63f80"
      },
      "execution_count": null,
      "outputs": [
        {
          "output_type": "stream",
          "name": "stdout",
          "text": [
            "     previous  calory  drinking  weight\n",
            "0          48    2000       300      50\n",
            "1          50    1600         0      52\n",
            "2          52    1400       100      51\n",
            "3          51    2500       600      52\n",
            "4          50    2200         0      53\n",
            "..        ...     ...       ...     ...\n",
            "104        52    1689       550      52\n",
            "105        52    1307         0      52\n",
            "106        52    1206         0      51\n",
            "107        51    1525         0      51\n",
            "108        51    1464         0      51\n",
            "\n",
            "[109 rows x 4 columns]\n"
          ]
        }
      ]
    },
    {
      "cell_type": "markdown",
      "source": [
        "実行すると「109 rows × 4 columns」が末尾にあることを確認します。確認できればOKです。これで109行、4列のデータであることが分かります。\n",
        "それぞれの列が前日の体重（previous）、摂取カロリー（calory）、飲酒量（drinking）、体重（weight）と対応しています。\n",
        "日毎の各項目の値を表しており、109日分のデータが入っていることがわかります。"
      ],
      "metadata": {
        "id": "3O5BX-YxvC1j"
      }
    },
    {
      "cell_type": "markdown",
      "source": [
        "## 2-2 説明変数・目的変数の設定"
      ],
      "metadata": {
        "id": "gQ30hFpOU1qC"
      }
    },
    {
      "cell_type": "markdown",
      "source": [
        "今回、ある日の体重を、「前の日の体重」と「摂取したカロリー」と「お酒を飲んだ量」から求められると仮定して重回帰による分析を試みます。\n",
        "\n",
        "具体的な重回帰のモデル式は下記を想定します。\n",
        "$$\n",
        "y_{体重} = \\beta_0 + \\beta_{前日の体重} x_{前日の体重} + \\beta_{摂取カロリー} x_{摂取カロリー} + \\beta_{飲酒量} x_{飲酒量}\n",
        "$$\n",
        "\n",
        "説明変数は下記となります\n",
        " - 「前の日の体重」　previous\n",
        " - 「摂取したカロリー」　calory\n",
        " - 「お酒を飲んだ量」　drinking\n",
        "\n",
        "目的変数は下記となります\n",
        " - 「体重」　weight\n",
        "\n",
        "読み込んだデータを操作して説明変数と目的変数を設定するプログラムを記述して実行してください。ここでプログラム上の説明変数の変数名は x 、目的変数の変数名は y とします。"
      ],
      "metadata": {
        "id": "wkCjmgRDVGuM"
      }
    },
    {
      "cell_type": "code",
      "source": [
        "# 目的変数xにdfの「weight」\n",
        "# 説明変数yにdfの「previous」、「calory」、「drinking」を指定\n"
      ],
      "metadata": {
        "id": "Syi7abjKXT7J"
      },
      "execution_count": null,
      "outputs": []
    },
    {
      "cell_type": "code",
      "source": [
        "y=df[['previous','calory','drinking']]\n",
        "x=df['weight']\n"
      ],
      "metadata": {
        "colab": {
          "base_uri": "https://localhost:8080/"
        },
        "id": "X6O7RPWUT6ue",
        "outputId": "2305c633-1cf2-4dc5-a351-d37d87b792d8"
      },
      "execution_count": null,
      "outputs": [
        {
          "output_type": "stream",
          "name": "stdout",
          "text": [
            "     previous  calory  drinking  weight\n",
            "0          48    2000       300      50\n",
            "1          50    1600         0      52\n",
            "2          52    1400       100      51\n",
            "3          51    2500       600      52\n",
            "4          50    2200         0      53\n",
            "..        ...     ...       ...     ...\n",
            "104        52    1689       550      52\n",
            "105        52    1307         0      52\n",
            "106        52    1206         0      51\n",
            "107        51    1525         0      51\n",
            "108        51    1464         0      51\n",
            "\n",
            "[109 rows x 4 columns]\n"
          ]
        }
      ]
    },
    {
      "cell_type": "markdown",
      "source": [
        "## 2-3 相関係数の確認"
      ],
      "metadata": {
        "id": "Aqd3txkWC611"
      }
    },
    {
      "cell_type": "markdown",
      "source": [
        "説明変数について調べる。説明変数の変数同士の相関係数を求めましょう。corrメソッドにより求めることができます。"
      ],
      "metadata": {
        "id": "fN915nRMDOHC"
      }
    },
    {
      "cell_type": "code",
      "source": [
        "y.corr()\n"
      ],
      "metadata": {
        "id": "LCB5Xa09T7H-",
        "colab": {
          "base_uri": "https://localhost:8080/",
          "height": 143
        },
        "outputId": "e5f4f985-5187-4c77-f174-ad84e9d43114"
      },
      "execution_count": null,
      "outputs": [
        {
          "output_type": "execute_result",
          "data": {
            "text/plain": [
              "          previous    calory  drinking\n",
              "previous  1.000000 -0.241715 -0.111570\n",
              "calory   -0.241715  1.000000  0.239899\n",
              "drinking -0.111570  0.239899  1.000000"
            ],
            "text/html": [
              "\n",
              "  <div id=\"df-45ff482c-e2d8-447b-b0fe-baa4141f42dc\">\n",
              "    <div class=\"colab-df-container\">\n",
              "      <div>\n",
              "<style scoped>\n",
              "    .dataframe tbody tr th:only-of-type {\n",
              "        vertical-align: middle;\n",
              "    }\n",
              "\n",
              "    .dataframe tbody tr th {\n",
              "        vertical-align: top;\n",
              "    }\n",
              "\n",
              "    .dataframe thead th {\n",
              "        text-align: right;\n",
              "    }\n",
              "</style>\n",
              "<table border=\"1\" class=\"dataframe\">\n",
              "  <thead>\n",
              "    <tr style=\"text-align: right;\">\n",
              "      <th></th>\n",
              "      <th>previous</th>\n",
              "      <th>calory</th>\n",
              "      <th>drinking</th>\n",
              "    </tr>\n",
              "  </thead>\n",
              "  <tbody>\n",
              "    <tr>\n",
              "      <th>previous</th>\n",
              "      <td>1.000000</td>\n",
              "      <td>-0.241715</td>\n",
              "      <td>-0.111570</td>\n",
              "    </tr>\n",
              "    <tr>\n",
              "      <th>calory</th>\n",
              "      <td>-0.241715</td>\n",
              "      <td>1.000000</td>\n",
              "      <td>0.239899</td>\n",
              "    </tr>\n",
              "    <tr>\n",
              "      <th>drinking</th>\n",
              "      <td>-0.111570</td>\n",
              "      <td>0.239899</td>\n",
              "      <td>1.000000</td>\n",
              "    </tr>\n",
              "  </tbody>\n",
              "</table>\n",
              "</div>\n",
              "      <button class=\"colab-df-convert\" onclick=\"convertToInteractive('df-45ff482c-e2d8-447b-b0fe-baa4141f42dc')\"\n",
              "              title=\"Convert this dataframe to an interactive table.\"\n",
              "              style=\"display:none;\">\n",
              "        \n",
              "  <svg xmlns=\"http://www.w3.org/2000/svg\" height=\"24px\"viewBox=\"0 0 24 24\"\n",
              "       width=\"24px\">\n",
              "    <path d=\"M0 0h24v24H0V0z\" fill=\"none\"/>\n",
              "    <path d=\"M18.56 5.44l.94 2.06.94-2.06 2.06-.94-2.06-.94-.94-2.06-.94 2.06-2.06.94zm-11 1L8.5 8.5l.94-2.06 2.06-.94-2.06-.94L8.5 2.5l-.94 2.06-2.06.94zm10 10l.94 2.06.94-2.06 2.06-.94-2.06-.94-.94-2.06-.94 2.06-2.06.94z\"/><path d=\"M17.41 7.96l-1.37-1.37c-.4-.4-.92-.59-1.43-.59-.52 0-1.04.2-1.43.59L10.3 9.45l-7.72 7.72c-.78.78-.78 2.05 0 2.83L4 21.41c.39.39.9.59 1.41.59.51 0 1.02-.2 1.41-.59l7.78-7.78 2.81-2.81c.8-.78.8-2.07 0-2.86zM5.41 20L4 18.59l7.72-7.72 1.47 1.35L5.41 20z\"/>\n",
              "  </svg>\n",
              "      </button>\n",
              "      \n",
              "  <style>\n",
              "    .colab-df-container {\n",
              "      display:flex;\n",
              "      flex-wrap:wrap;\n",
              "      gap: 12px;\n",
              "    }\n",
              "\n",
              "    .colab-df-convert {\n",
              "      background-color: #E8F0FE;\n",
              "      border: none;\n",
              "      border-radius: 50%;\n",
              "      cursor: pointer;\n",
              "      display: none;\n",
              "      fill: #1967D2;\n",
              "      height: 32px;\n",
              "      padding: 0 0 0 0;\n",
              "      width: 32px;\n",
              "    }\n",
              "\n",
              "    .colab-df-convert:hover {\n",
              "      background-color: #E2EBFA;\n",
              "      box-shadow: 0px 1px 2px rgba(60, 64, 67, 0.3), 0px 1px 3px 1px rgba(60, 64, 67, 0.15);\n",
              "      fill: #174EA6;\n",
              "    }\n",
              "\n",
              "    [theme=dark] .colab-df-convert {\n",
              "      background-color: #3B4455;\n",
              "      fill: #D2E3FC;\n",
              "    }\n",
              "\n",
              "    [theme=dark] .colab-df-convert:hover {\n",
              "      background-color: #434B5C;\n",
              "      box-shadow: 0px 1px 3px 1px rgba(0, 0, 0, 0.15);\n",
              "      filter: drop-shadow(0px 1px 2px rgba(0, 0, 0, 0.3));\n",
              "      fill: #FFFFFF;\n",
              "    }\n",
              "  </style>\n",
              "\n",
              "      <script>\n",
              "        const buttonEl =\n",
              "          document.querySelector('#df-45ff482c-e2d8-447b-b0fe-baa4141f42dc button.colab-df-convert');\n",
              "        buttonEl.style.display =\n",
              "          google.colab.kernel.accessAllowed ? 'block' : 'none';\n",
              "\n",
              "        async function convertToInteractive(key) {\n",
              "          const element = document.querySelector('#df-45ff482c-e2d8-447b-b0fe-baa4141f42dc');\n",
              "          const dataTable =\n",
              "            await google.colab.kernel.invokeFunction('convertToInteractive',\n",
              "                                                     [key], {});\n",
              "          if (!dataTable) return;\n",
              "\n",
              "          const docLinkHtml = 'Like what you see? Visit the ' +\n",
              "            '<a target=\"_blank\" href=https://colab.research.google.com/notebooks/data_table.ipynb>data table notebook</a>'\n",
              "            + ' to learn more about interactive tables.';\n",
              "          element.innerHTML = '';\n",
              "          dataTable['output_type'] = 'display_data';\n",
              "          await google.colab.output.renderOutput(dataTable, element);\n",
              "          const docLink = document.createElement('div');\n",
              "          docLink.innerHTML = docLinkHtml;\n",
              "          element.appendChild(docLink);\n",
              "        }\n",
              "      </script>\n",
              "    </div>\n",
              "  </div>\n",
              "  "
            ]
          },
          "metadata": {},
          "execution_count": 37
        }
      ]
    },
    {
      "cell_type": "markdown",
      "source": [
        "得られた結果を見て、重回帰のモデルの係数の有意性の観点から何が言えるかを下記のセルに記述しましょう。\n",
        "\n",
        "$$\n",
        "y_{体重} = \\beta_0 + \\beta_{前日の体重} x_{前日の体重} + \\beta_{摂取カロリー} x_{摂取カロリー} + \\beta_{飲酒量} x_{飲酒量}\n",
        "$$\n"
      ],
      "metadata": {
        "id": "awVOE40XZHRu"
      }
    },
    {
      "cell_type": "markdown",
      "source": [
        "#（このセルを編集して記述してください）"
      ],
      "metadata": {
        "id": "puOfuuK-ZQdd"
      }
    },
    {
      "cell_type": "markdown",
      "source": [
        "相関係数が0.05未満の場合、重回帰モデルの係数の有意性の観点から見れば目的変数に対して関係性があるといえるため、calory(摂取したカロリー)とdrinking(お酒を飲んだ量)の相関係数以外は0.05を下回っているため、回帰モデルの係数の有意性の観点から見て目的変数に対して関係性があるといえる。"
      ],
      "metadata": {
        "id": "tKr95SFpXUwO"
      }
    },
    {
      "cell_type": "markdown",
      "source": [],
      "metadata": {
        "id": "1OkU-KxUYFnK"
      }
    },
    {
      "cell_type": "markdown",
      "source": [
        "# 3 モデルの構築と評価"
      ],
      "metadata": {
        "id": "Fz5aqrmqGpC5"
      }
    },
    {
      "cell_type": "markdown",
      "source": [
        "読み込んだデータに対して重回帰のモデルを構築します。ここからが機械学習（重回帰）の本番です。\n",
        "\n",
        "機械学習ライブラリ「scikit-learn」を利用する事により、「重回帰」を簡単に実装する事が出来ます。（scikit-learnの読み方はサイキットラーン）\n",
        "\n",
        "それでは、説明変数と目的変数を設定して学習を実行しましょう。プログラムは、LinearRegressionを初期化して、学習はfitメソッドを利用することにより実行できます。\n",
        "\n",
        "$$\n",
        "y_{体重} = \\beta_0 + \\beta_{前日の体重} x_{前日の体重} + \\beta_{摂取カロリー} x_{摂取カロリー} + \\beta_{飲酒量} x_{飲酒量}\n",
        "$$"
      ],
      "metadata": {
        "id": "VFXg3F_mG2fO"
      }
    },
    {
      "cell_type": "code",
      "source": [
        "model=LinearRegression()\n",
        "model.fit(y,x)"
      ],
      "metadata": {
        "id": "iiSSgNzoRD4n",
        "colab": {
          "base_uri": "https://localhost:8080/",
          "height": 74
        },
        "outputId": "ef2cf6a8-9f5a-4fe1-eb7c-d0f4db06a2e7"
      },
      "execution_count": null,
      "outputs": [
        {
          "output_type": "execute_result",
          "data": {
            "text/plain": [
              "LinearRegression()"
            ],
            "text/html": [
              "<style>#sk-container-id-2 {color: black;background-color: white;}#sk-container-id-2 pre{padding: 0;}#sk-container-id-2 div.sk-toggleable {background-color: white;}#sk-container-id-2 label.sk-toggleable__label {cursor: pointer;display: block;width: 100%;margin-bottom: 0;padding: 0.3em;box-sizing: border-box;text-align: center;}#sk-container-id-2 label.sk-toggleable__label-arrow:before {content: \"▸\";float: left;margin-right: 0.25em;color: #696969;}#sk-container-id-2 label.sk-toggleable__label-arrow:hover:before {color: black;}#sk-container-id-2 div.sk-estimator:hover label.sk-toggleable__label-arrow:before {color: black;}#sk-container-id-2 div.sk-toggleable__content {max-height: 0;max-width: 0;overflow: hidden;text-align: left;background-color: #f0f8ff;}#sk-container-id-2 div.sk-toggleable__content pre {margin: 0.2em;color: black;border-radius: 0.25em;background-color: #f0f8ff;}#sk-container-id-2 input.sk-toggleable__control:checked~div.sk-toggleable__content {max-height: 200px;max-width: 100%;overflow: auto;}#sk-container-id-2 input.sk-toggleable__control:checked~label.sk-toggleable__label-arrow:before {content: \"▾\";}#sk-container-id-2 div.sk-estimator input.sk-toggleable__control:checked~label.sk-toggleable__label {background-color: #d4ebff;}#sk-container-id-2 div.sk-label input.sk-toggleable__control:checked~label.sk-toggleable__label {background-color: #d4ebff;}#sk-container-id-2 input.sk-hidden--visually {border: 0;clip: rect(1px 1px 1px 1px);clip: rect(1px, 1px, 1px, 1px);height: 1px;margin: -1px;overflow: hidden;padding: 0;position: absolute;width: 1px;}#sk-container-id-2 div.sk-estimator {font-family: monospace;background-color: #f0f8ff;border: 1px dotted black;border-radius: 0.25em;box-sizing: border-box;margin-bottom: 0.5em;}#sk-container-id-2 div.sk-estimator:hover {background-color: #d4ebff;}#sk-container-id-2 div.sk-parallel-item::after {content: \"\";width: 100%;border-bottom: 1px solid gray;flex-grow: 1;}#sk-container-id-2 div.sk-label:hover label.sk-toggleable__label {background-color: #d4ebff;}#sk-container-id-2 div.sk-serial::before {content: \"\";position: absolute;border-left: 1px solid gray;box-sizing: border-box;top: 0;bottom: 0;left: 50%;z-index: 0;}#sk-container-id-2 div.sk-serial {display: flex;flex-direction: column;align-items: center;background-color: white;padding-right: 0.2em;padding-left: 0.2em;position: relative;}#sk-container-id-2 div.sk-item {position: relative;z-index: 1;}#sk-container-id-2 div.sk-parallel {display: flex;align-items: stretch;justify-content: center;background-color: white;position: relative;}#sk-container-id-2 div.sk-item::before, #sk-container-id-2 div.sk-parallel-item::before {content: \"\";position: absolute;border-left: 1px solid gray;box-sizing: border-box;top: 0;bottom: 0;left: 50%;z-index: -1;}#sk-container-id-2 div.sk-parallel-item {display: flex;flex-direction: column;z-index: 1;position: relative;background-color: white;}#sk-container-id-2 div.sk-parallel-item:first-child::after {align-self: flex-end;width: 50%;}#sk-container-id-2 div.sk-parallel-item:last-child::after {align-self: flex-start;width: 50%;}#sk-container-id-2 div.sk-parallel-item:only-child::after {width: 0;}#sk-container-id-2 div.sk-dashed-wrapped {border: 1px dashed gray;margin: 0 0.4em 0.5em 0.4em;box-sizing: border-box;padding-bottom: 0.4em;background-color: white;}#sk-container-id-2 div.sk-label label {font-family: monospace;font-weight: bold;display: inline-block;line-height: 1.2em;}#sk-container-id-2 div.sk-label-container {text-align: center;}#sk-container-id-2 div.sk-container {/* jupyter's `normalize.less` sets `[hidden] { display: none; }` but bootstrap.min.css set `[hidden] { display: none !important; }` so we also need the `!important` here to be able to override the default hidden behavior on the sphinx rendered scikit-learn.org. See: https://github.com/scikit-learn/scikit-learn/issues/21755 */display: inline-block !important;position: relative;}#sk-container-id-2 div.sk-text-repr-fallback {display: none;}</style><div id=\"sk-container-id-2\" class=\"sk-top-container\"><div class=\"sk-text-repr-fallback\"><pre>LinearRegression()</pre><b>In a Jupyter environment, please rerun this cell to show the HTML representation or trust the notebook. <br />On GitHub, the HTML representation is unable to render, please try loading this page with nbviewer.org.</b></div><div class=\"sk-container\" hidden><div class=\"sk-item\"><div class=\"sk-estimator sk-toggleable\"><input class=\"sk-toggleable__control sk-hidden--visually\" id=\"sk-estimator-id-2\" type=\"checkbox\" checked><label for=\"sk-estimator-id-2\" class=\"sk-toggleable__label sk-toggleable__label-arrow\">LinearRegression</label><div class=\"sk-toggleable__content\"><pre>LinearRegression()</pre></div></div></div></div></div>"
            ]
          },
          "metadata": {},
          "execution_count": 27
        }
      ]
    },
    {
      "cell_type": "markdown",
      "source": [
        "以上で学習は完了です。\n",
        "\n",
        "次に、学習結果の評価を行います。score メソッドを利用する事により決定係数を計算できます。\n",
        "\n",
        "決定係数はデータに対する、推定されたモデルの当てはまりの良さ（度合い）を表し、$0$ から $1$ までの値をとります。$1$ に近いほど、当てはまりが良いです。\n",
        "\n",
        "ここで、「決定係数はいくつ以上なら良いのか？」という疑問が生じますが、この問いに対する絶対的な回答は存在しません。\n",
        "\n",
        "ここでは、参考として「$R^2 \\geq 0.8$：精度良い」、「$R^2 \\geq 0.5$：精度やや良い」、「$R^2 < 0.5$：精度良くない」という基準を紹介します（cf. https://istat.co.jp/ta_commentary/multiple_02 ）。\n",
        "\n",
        "では、実際に決定係数を計算してみましょう。"
      ],
      "metadata": {
        "id": "e0KyuU6gPKiT"
      }
    },
    {
      "cell_type": "code",
      "source": [
        "print(f'決定係数:{model.score(y,x)}')"
      ],
      "metadata": {
        "id": "khWjQo2VRR9Y",
        "colab": {
          "base_uri": "https://localhost:8080/"
        },
        "outputId": "b23efcc6-bad5-4fbf-a416-68dc1b59e204"
      },
      "execution_count": null,
      "outputs": [
        {
          "output_type": "stream",
          "name": "stdout",
          "text": [
            "決定係数:0.8554319110013583\n"
          ]
        }
      ]
    },
    {
      "cell_type": "markdown",
      "source": [
        "また、偏回帰係数を確認しましょう。偏回帰係数は coef_ と intercept_ から参照できます。"
      ],
      "metadata": {
        "id": "ovskmuR6Tjev"
      }
    },
    {
      "cell_type": "code",
      "source": [
        "print(f'偏回帰係数:{model.coef_}')\n",
        "print(f'切片:{model.intercept_}')"
      ],
      "metadata": {
        "id": "QWkz8h4zRZ5-",
        "colab": {
          "base_uri": "https://localhost:8080/"
        },
        "outputId": "fc467d4b-32b1-4547-80d0-536f6e76fdae"
      },
      "execution_count": null,
      "outputs": [
        {
          "output_type": "stream",
          "name": "stdout",
          "text": [
            "偏回帰係数:[0.89836309 0.00169585 0.00103089]\n",
            "切片:2.571795527798983\n"
          ]
        }
      ]
    }
  ]
}