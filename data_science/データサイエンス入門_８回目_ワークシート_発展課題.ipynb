{
  "nbformat": 4,
  "nbformat_minor": 0,
  "metadata": {
    "colab": {
      "provenance": [],
      "include_colab_link": true
    },
    "kernelspec": {
      "name": "python3",
      "display_name": "Python 3"
    },
    "language_info": {
      "name": "python"
    }
  },
  "cells": [
    {
      "cell_type": "markdown",
      "metadata": {
        "id": "view-in-github",
        "colab_type": "text"
      },
      "source": [
        "<a href=\"https://colab.research.google.com/github/Syshsr300323/Prmn2023a/blob/main/data_science/%E3%83%87%E3%83%BC%E3%82%BF%E3%82%B5%E3%82%A4%E3%82%A8%E3%83%B3%E3%82%B9%E5%85%A5%E9%96%80_%EF%BC%98%E5%9B%9E%E7%9B%AE_%E3%83%AF%E3%83%BC%E3%82%AF%E3%82%B7%E3%83%BC%E3%83%88_%E7%99%BA%E5%B1%95%E8%AA%B2%E9%A1%8C.ipynb\" target=\"_parent\"><img src=\"https://colab.research.google.com/assets/colab-badge.svg\" alt=\"Open In Colab\"/></a>"
      ]
    },
    {
      "cell_type": "markdown",
      "source": [
        "# **発展課題（提出は任意。授業当日に提示する課題：当日中に解き終わる必要はありません）**\n",
        "　これまではデータの分割を8:2で行いました。ここでは訓練データとテストデータの比率を変更してあえて2:8として行います。当然ながら訓練データの件数が少なくなりますので学習に影響を及ぼします。2:8の割合で分割し直した訓練データを使って標準化を行い、重回帰のモデルを作り、訓練データとテストデータのそれぞれの決定係数を算出して、作成したモデルの性能を評価してください。評価を考える際に、過学習に関する観点から結果を考察してください。また、その結果に影響を与える要因に目を向けて、訓練に使ったデータの件数に触れながら述べてください。"
      ],
      "metadata": {
        "id": "AB-AitPtalH-"
      }
    },
    {
      "cell_type": "code",
      "source": [
        "import numpy as np\n",
        "import pandas as pd\n",
        "from sklearn.model_selection import train_test_split\n",
        "from sklearn import preprocessing\n",
        "from sklearn.linear_model import LinearRegression\n",
        "\n",
        "df1=pd.read_csv('health_data.csv')\n",
        "\n",
        "x=df1[['previous','calory','drinking']]\n",
        "y=df1['weight']\n",
        "\n",
        "x_train,x_test,y_train,y_test=train_test_split(x,y,test_size=0.8,random_state=0)\n",
        "\n",
        "ss1=preprocessing.StandardScaler()\n",
        "ss1.fit(x_train,y_train)\n",
        "x_train_standization=ss1.transform(x_train)\n",
        "print(x_train_standization)"
      ],
      "metadata": {
        "id": "1L7CqcevQLI7",
        "colab": {
          "base_uri": "https://localhost:8080/"
        },
        "outputId": "d83fea30-3a85-4d48-bedb-adcf429d7150"
      },
      "execution_count": 4,
      "outputs": [
        {
          "output_type": "stream",
          "name": "stdout",
          "text": [
            "[[ 0.38268413 -1.56076389 -0.65068702]\n",
            " [ 2.23723028  0.09573259 -0.65068702]\n",
            " [-0.85367997  1.81999483  1.3854844 ]\n",
            " [-0.23549792  0.649153    1.10745296]\n",
            " [-0.23549792 -0.7701633  -0.65068702]\n",
            " [-0.23549792 -0.630867   -0.65068702]\n",
            " [ 0.38268413 -0.69863277 -0.65068702]\n",
            " [-0.23549792 -0.502865   -0.65068702]\n",
            " [-0.85367997  0.44209094 -0.65068702]\n",
            " [-0.23549792  1.18751436  0.0035046 ]\n",
            " [-0.85367997  0.87503888 -0.65068702]\n",
            " [-0.85367997 -1.45911524  1.75346718]\n",
            " [-0.85367997 -1.46288    -0.65068702]\n",
            " [-0.85367997  0.99927612  2.37494922]\n",
            " [-0.23549792  1.46987171 -0.65068702]\n",
            " [-0.85367997  1.48493077  0.99296942]\n",
            " [-0.23549792 -0.72498612 -0.65068702]\n",
            " [ 0.38268413 -0.11132947 -0.65068702]\n",
            " [-0.23549792 -0.310862    1.49179053]\n",
            " [ 2.23723028 -0.65722035 -0.65068702]\n",
            " [ 2.23723028 -0.13391806 -0.65068702]]\n"
          ]
        }
      ]
    },
    {
      "cell_type": "markdown",
      "source": [
        "過学習はデータの母数が少ないときにデータ全体の傾向がつかめずに偏ることで起こってしまう事象である。今回においてはテストデータに比べて訓練データの母数が明らかに少ないことから一つ当たりの要素のずれが大きかった場合、予測モデルから大きく外れたグラフになってしまうため、過学習であるといえる。"
      ],
      "metadata": {
        "id": "YoAY7bnO7Qpd"
      }
    }
  ]
}