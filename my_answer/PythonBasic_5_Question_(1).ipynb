{
  "nbformat": 4,
  "nbformat_minor": 0,
  "metadata": {
    "colab": {
      "provenance": [],
      "include_colab_link": true
    },
    "kernelspec": {
      "name": "python3",
      "display_name": "Python 3"
    },
    "language_info": {
      "name": "python"
    }
  },
  "cells": [
    {
      "cell_type": "markdown",
      "metadata": {
        "id": "view-in-github",
        "colab_type": "text"
      },
      "source": [
        "<a href=\"https://colab.research.google.com/github/Syshsr300323/Prmn2023a/blob/main/my_answer/PythonBasic_5_Question_(1).ipynb\" target=\"_parent\"><img src=\"https://colab.research.google.com/assets/colab-badge.svg\" alt=\"Open In Colab\"/></a>"
      ]
    },
    {
      "cell_type": "markdown",
      "source": [
        "<a href=\"https://colab.research.google.com/github/kiryu-3/Prmn2023/blob/main/Python/Python_Basic/question/PythonBasic_5_Question.ipynb\" target=\"_parent\"><img src=\"https://colab.research.google.com/assets/colab-badge.svg\" alt=\"Open In Colab\"/></a>"
      ],
      "metadata": {
        "id": "TA5kKi-LY1xg"
      }
    },
    {
      "cell_type": "markdown",
      "source": [
        "# 第5章 課題"
      ],
      "metadata": {
        "id": "r-kcfL2yEU8b"
      }
    },
    {
      "cell_type": "markdown",
      "source": [
        "## 課題1"
      ],
      "metadata": {
        "id": "RWo2DmBs_2c4"
      }
    },
    {
      "cell_type": "markdown",
      "source": [
        "1桁の自然数を乱数を使って5つ格納した2つのリストを作ってください。  \n",
        "この時、一つのリスト内で5つの値が重複しないようにしてください\n",
        "\n",
        "その後、そのリストから重複する要素を削除した新しいリストと、   \n",
        "共通の要素を持つ新しいリストを出力してください"
      ],
      "metadata": {
        "id": "QRNvqmTgE8Ww"
      }
    },
    {
      "cell_type": "markdown",
      "source": [
        "＜実行結果例＞\n",
        "``` py  \n",
        "1つ目のリスト：[1, 2, 3, 4, 5]  \n",
        "2つ目のリスト：[1, 3, 5, 7, 9]  \n",
        "重複削除リスト：[1, 2, 3, 4, 5, 7, 9] \n",
        "共通要素リスト：[1, 3, 5]\n",
        "```"
      ],
      "metadata": {
        "id": "Goi4CqGxFOpn"
      }
    },
    {
      "cell_type": "markdown",
      "source": [
        "＜ヒント＞ set関数を用いても用いなくても答えは出せます。"
      ],
      "metadata": {
        "id": "iEOFeFjqkkyS"
      }
    },
    {
      "cell_type": "code",
      "source": [
        "# 入力用\n",
        "import random\n",
        "\n",
        "sizensuu=[i for i in range(1,9)]\n",
        "\n",
        "list1=random.sample(sizensuu,5)\n",
        "list2=random.sample(sizensuu,5)\n",
        "set1=set(list1)\n",
        "set2=set(list2)\n",
        "\n",
        "#print(list1)\n",
        "print(f'一つ目のリスト:{set1}')\n",
        "#print(list2)\n",
        "print(f'二つ目のリスト:{set2}')\n",
        "print(f'重複削除リスト:{set1|set2}')\n",
        "print(f'共通要素リスト:{set1&set2}')\n"
      ],
      "metadata": {
        "id": "pQdhCOALMGWj",
        "colab": {
          "base_uri": "https://localhost:8080/"
        },
        "outputId": "60d6f4e5-31b9-4b39-a98d-7e371988f31b"
      },
      "execution_count": 50,
      "outputs": [
        {
          "output_type": "stream",
          "name": "stdout",
          "text": [
            "一つ目のリスト:{1, 2, 3, 4, 6}\n",
            "二つ目のリスト:{1, 2, 3, 6, 7}\n",
            "重複削除リスト:{1, 2, 3, 4, 6, 7}\n",
            "共通要素リスト:{1, 2, 3, 6}\n"
          ]
        }
      ]
    },
    {
      "cell_type": "markdown",
      "source": [
        "## 課題2"
      ],
      "metadata": {
        "id": "-qZw_n3X8xrW"
      }
    },
    {
      "cell_type": "markdown",
      "source": [
        "共通のキーを持つ辞書を要素とするリストから、特定のキーの値のリストを取得してみます。"
      ],
      "metadata": {
        "id": "vxwATeobQf_U"
      }
    },
    {
      "cell_type": "markdown",
      "source": [
        "以下のリストから、都道府県コード・都道府県・県庁所在地それぞれのリストを作成してください\n",
        "\n",
        "キーが存在しないところがある点に注意してください"
      ],
      "metadata": {
        "id": "tGPa1uU6Qs2c"
      }
    },
    {
      "cell_type": "code",
      "source": [
        "todohuken_data = [{\"コード\": 24, \"都道府県\": \"三重\", \"県庁所在地\": \"津\"},\n",
        "                  {\"コード\": 25, \"都道府県\": \"滋賀\", \"県庁所在地\": \"大津\"},\n",
        "                  {\"コード\": 31, \"都道府県\": \"鳥取\"},\n",
        "                  {\"コード\": 32, \"都道府県\": \"島根\", \"県庁所在地\": \"松江\"},\n",
        "                  {\"コード\": 37, \"都道府県\": \"香川\", \"県庁所在地\": \"高松\"},\n",
        "                  {\"コード\": 38, \"都道府県\": \"愛媛\", \"県庁所在地\": \"松山\"},]"
      ],
      "metadata": {
        "id": "8ZdyRWbERGAY"
      },
      "execution_count": 32,
      "outputs": []
    },
    {
      "cell_type": "markdown",
      "source": [
        "＜出力結果例＞  \n",
        "``` py\n",
        "[24, 25, 31, 32, 37, 38]  \n",
        "['三重', '滋賀', '鳥取', '島根', '香川', '愛媛']\n",
        "['津', '大津', None, '松江', '高松', '松山']\n",
        "```"
      ],
      "metadata": {
        "id": "dQ2n3OMSUXh2"
      }
    },
    {
      "cell_type": "code",
      "source": [
        "# 入力用\n",
        "todohuken_data = [{\"コード\": 24, \"都道府県\": \"三重\", \"県庁所在地\": \"津\"},\n",
        "                  {\"コード\": 25, \"都道府県\": \"滋賀\", \"県庁所在地\": \"大津\"},\n",
        "                  {\"コード\": 31, \"都道府県\": \"鳥取\"},\n",
        "                  {\"コード\": 32, \"都道府県\": \"島根\", \"県庁所在地\": \"松江\"},\n",
        "                  {\"コード\": 37, \"都道府県\": \"香川\", \"県庁所在地\": \"高松\"},\n",
        "                  {\"コード\": 38, \"都道府県\": \"愛媛\", \"県庁所在地\": \"松山\"},]\n",
        "\n",
        "#print(todohuken_data)\n",
        "cord=[i.get(\"コード\") for i in todohuken_data]\n",
        "print(cord)\n",
        "todohuken=[i.get(\"都道府県\") for i in todohuken_data]\n",
        "print(todohuken)\n",
        "kentyo=[i.get(\"県庁所在地\") for i in todohuken_data]\n",
        "print(kentyo)\n",
        "\n",
        "\n"
      ],
      "metadata": {
        "id": "duwCERgQUify",
        "colab": {
          "base_uri": "https://localhost:8080/"
        },
        "outputId": "204e0169-ec6e-4baf-af95-3bceb746495a"
      },
      "execution_count": 51,
      "outputs": [
        {
          "output_type": "stream",
          "name": "stdout",
          "text": [
            "[24, 25, 31, 32, 37, 38]\n",
            "['三重', '滋賀', '鳥取', '島根', '香川', '愛媛']\n",
            "['津', '大津', None, '松江', '高松', '松山']\n"
          ]
        }
      ]
    },
    {
      "cell_type": "markdown",
      "source": [
        "## 課題3"
      ],
      "metadata": {
        "id": "1S8kadYgq_gV"
      }
    },
    {
      "cell_type": "markdown",
      "source": [
        "ある文字列が与えられた場合、文字列内の各文字の出現回数をディクショナリの形で返してください\n",
        "\n",
        "大文字と小文字は区別してください  \n",
        "また、出力時はアルファベット順にソートした状態にしてください"
      ],
      "metadata": {
        "id": "OdSKG7k9rA7V"
      }
    },
    {
      "cell_type": "markdown",
      "source": [
        "＜実行結果例＞　「Hello, World!」の各文字のカウント\n",
        "``` py\n",
        "{'H': 1, 'W': 1, 'd': 1, 'e': 1, 'l': 3, 'o': 2, 'r': 1}\n",
        "```"
      ],
      "metadata": {
        "id": "p0suMufQuEzI"
      }
    },
    {
      "cell_type": "code",
      "source": [
        "# 入力用\n",
        "\n",
        "string = \"何か\"\n",
        "\n",
        "# アルファベット以外の文字を削除 最初に実行してください\n",
        "string = ''.join(c for c in string if c.isalpha())\n",
        "\n",
        "moji=str(input('文字を入力してください。 '))\n",
        "\n",
        "moji=''.join(c for c in moji if c.isalpha())\n",
        "#print(moji)\n",
        "\n",
        "moji2=''.join(set(moji))\n",
        "#print(moji2)\n",
        "\n",
        "moji3=sorted(moji2)\n",
        "#print(moji3)\n",
        "moji4=[]\n",
        "\n",
        "for i in moji3:\n",
        "  moji4.append(moji.count(i))\n",
        "#print(moji4)\n",
        "\n",
        "\n",
        "for i in moji3:\n",
        "  for j in moji4:\n",
        "    dic=dict(zip(moji3,moji4))\n",
        "  \n",
        "print(dic)"
      ],
      "metadata": {
        "id": "bHv50oDhrdzN",
        "colab": {
          "base_uri": "https://localhost:8080/"
        },
        "outputId": "59909dd8-0357-4f3b-adbc-e6a03b9ea2ea"
      },
      "execution_count": 56,
      "outputs": [
        {
          "output_type": "stream",
          "name": "stdout",
          "text": [
            "文字を入力してください。 Hello World!\n",
            "{'H': 1, 'W': 1, 'd': 1, 'e': 1, 'l': 3, 'o': 2, 'r': 1}\n"
          ]
        }
      ]
    },
    {
      "cell_type": "markdown",
      "source": [
        "## 課題4"
      ],
      "metadata": {
        "id": "W573lh39MOlj"
      }
    },
    {
      "cell_type": "markdown",
      "source": [
        "ある大学の名前と年齢が、次のような形式で格納されたディクショナリ `university_dic` があります。"
      ],
      "metadata": {
        "id": "sSIMKY-aNcIx"
      }
    },
    {
      "cell_type": "code",
      "source": [
        "university_dic = {\n",
        "    \"Chitose\" : 25,\n",
        "    \"Hokudai\" : 105,\n",
        "    \"Muroran\" : 74,\n",
        "    \"Hakodate\": 23,\n",
        "}"
      ],
      "metadata": {
        "id": "v-wGyWuKK3wl"
      },
      "execution_count": null,
      "outputs": []
    },
    {
      "cell_type": "markdown",
      "source": [
        "このリストを、年齢順にソートして、新たなディクショナリとして出力してください"
      ],
      "metadata": {
        "id": "XIxDf9QgO1iH"
      }
    },
    {
      "cell_type": "markdown",
      "source": [
        "＜実行結果＞  \n",
        "``` py\n",
        "{'Hakodate': 23, 'Chitose': 25, 'Muroran': 74, 'Hokudai': 105}\n",
        "```"
      ],
      "metadata": {
        "id": "0Z2-_1dAQENU"
      }
    },
    {
      "cell_type": "code",
      "source": [
        "# 入力用\n",
        "university_dic = {\n",
        "    \"Chitose\" : 25,\n",
        "    \"Hokudai\" : 105,\n",
        "    \"Muroran\" : 74,\n",
        "    \"Hakodate\": 23,\n",
        "}\n",
        "print(university_dic)\n",
        "\n",
        "list1=[i for i in university_dic.values()]\n",
        "#print(list1)\n",
        "list2=[i for i in university_dic.keys()]\n",
        "#print(list2)\n",
        "dic1=dict(zip(list1,list2))\n",
        "#print(dic1)\n",
        "  \n",
        "dic2=sorted(dic1.items())\n",
        "#print(dic2)\n",
        "dic3=dict(dic2)\n",
        "#print(dic3)\n",
        "dic4=dict([(v,k) for k,v in dic3.items() ])\n",
        "print(dic4)\n",
        "\n",
        "\n",
        "\n"
      ],
      "metadata": {
        "id": "ficNVfkgR5Kv",
        "colab": {
          "base_uri": "https://localhost:8080/"
        },
        "outputId": "e4ac4a8c-1c22-4793-8966-0ec03c85ed02"
      },
      "execution_count": 54,
      "outputs": [
        {
          "output_type": "stream",
          "name": "stdout",
          "text": [
            "{'Chitose': 25, 'Hokudai': 105, 'Muroran': 74, 'Hakodate': 23}\n",
            "{'Hakodate': 23, 'Chitose': 25, 'Muroran': 74, 'Hokudai': 105}\n"
          ]
        }
      ]
    },
    {
      "cell_type": "markdown",
      "source": [
        "## 課題5"
      ],
      "metadata": {
        "id": "QijnXk7UWAVC"
      }
    },
    {
      "cell_type": "markdown",
      "source": [
        "**FizzBuzz（フィズ・バズ）問題**という問題について解いていきます。\n",
        "\n",
        "もともとは、英語圏で長距離ドライブ中や飲み会の時に行われる言葉遊びです。"
      ],
      "metadata": {
        "id": "m7F47Q1mWCA6"
      }
    },
    {
      "cell_type": "markdown",
      "source": [
        "以下のような問題になります。\n",
        "\n",
        "1～Nまでの整数を順に出力しなさい。ただし、例外として以下のルールを守ること。\n",
        "\n",
        "* 3で割り切れる数字の場合はFizzを出力\n",
        "* 5で割り切れる数字の場合はBuzzを出力\n",
        "* 7で割り切れる数字の場合はJazzを出力\n",
        "* 複数条件が当てはまる場合は組み合わせて出力（ \"FizzBuzz\", \"FizzJazz\", \"BuzzJazz\" など）"
      ],
      "metadata": {
        "id": "fArw0VcNWgwZ"
      }
    },
    {
      "cell_type": "markdown",
      "source": [
        "ここでは N=100として、まずは一つのリストに  \n",
        "\"Fizz\" か \"Buzz\" か \"Jazz\" か \"組み合わさったもの\" か \"others\" を格納してください。\n",
        "\n",
        "その後、それぞれの要素の数をカウントし、ディクショナリの形で出力してください。"
      ],
      "metadata": {
        "id": "SYqkpYstWm7Z"
      }
    },
    {
      "cell_type": "markdown",
      "source": [
        "＜実行結果例＞  \n",
        "``` py\n",
        "{'Fizz': 23, 'Buzz': 12, 'Jazz': 8, 'FizzBuzz': 6, 'FizzJazz': 4, 'BuzzJazz': 2, 'others': 45}\n",
        "```"
      ],
      "metadata": {
        "id": "OqLuJTcWYzFt"
      }
    },
    {
      "cell_type": "code",
      "source": [
        "# 入力用\n",
        "N=100\n",
        "FizzBuzz_list=[]\n",
        "\n",
        "for j in range(1,N+1):\n",
        "  if(j%35==0):\n",
        "    FizzBuzz_list.append('BuzzJazz')\n",
        "  elif(j%21==0):\n",
        "    FizzBuzz_list.append('FizzJazz')\n",
        "  elif(j%15==0):\n",
        "    FizzBuzz_list.append('FizzBuzz')\n",
        "  elif(j%7==0):\n",
        "    FizzBuzz_list.append('Jazz')\n",
        "  elif(j%5==0):\n",
        "    FizzBuzz_list.append('Buzz')\n",
        "  elif(j%3==0):\n",
        "    FizzBuzz_list.append('Fizz')\n",
        "  else:\n",
        "    FizzBuzz_list.append('others') \n",
        "print(FizzBuzz_list)\n",
        "\n",
        "key_list=['Fizz','Buzz','Jazz','FizzBuzz','FizzJazz','BuzzJazz','others']\n",
        "value_list=[]\n",
        "for i in key_list:\n",
        "  value_list.append(FizzBuzz_list.count(i))\n",
        "\n",
        "#print(value_list)\n",
        "for i in key_list:\n",
        "  for j in value_list:\n",
        "    dic=dict(zip(key_list,value_list))\n",
        "\n",
        "print(dic)\n"
      ],
      "metadata": {
        "id": "BLYbI0E48o2G",
        "colab": {
          "base_uri": "https://localhost:8080/"
        },
        "outputId": "b3620a8c-69c5-4bca-b241-0d2f783ac770"
      },
      "execution_count": 55,
      "outputs": [
        {
          "output_type": "stream",
          "name": "stdout",
          "text": [
            "['others', 'others', 'Fizz', 'others', 'Buzz', 'Fizz', 'Jazz', 'others', 'Fizz', 'Buzz', 'others', 'Fizz', 'others', 'Jazz', 'FizzBuzz', 'others', 'others', 'Fizz', 'others', 'Buzz', 'FizzJazz', 'others', 'others', 'Fizz', 'Buzz', 'others', 'Fizz', 'Jazz', 'others', 'FizzBuzz', 'others', 'others', 'Fizz', 'others', 'BuzzJazz', 'Fizz', 'others', 'others', 'Fizz', 'Buzz', 'others', 'FizzJazz', 'others', 'others', 'FizzBuzz', 'others', 'others', 'Fizz', 'Jazz', 'Buzz', 'Fizz', 'others', 'others', 'Fizz', 'Buzz', 'Jazz', 'Fizz', 'others', 'others', 'FizzBuzz', 'others', 'others', 'FizzJazz', 'others', 'Buzz', 'Fizz', 'others', 'others', 'Fizz', 'BuzzJazz', 'others', 'Fizz', 'others', 'others', 'FizzBuzz', 'others', 'Jazz', 'Fizz', 'others', 'Buzz', 'Fizz', 'others', 'others', 'FizzJazz', 'Buzz', 'others', 'Fizz', 'others', 'others', 'FizzBuzz', 'Jazz', 'others', 'Fizz', 'others', 'Buzz', 'Fizz', 'others', 'Jazz', 'Fizz', 'Buzz']\n",
            "{'Fizz': 23, 'Buzz': 12, 'Jazz': 8, 'FizzBuzz': 6, 'FizzJazz': 4, 'BuzzJazz': 2, 'others': 45}\n"
          ]
        }
      ]
    }
  ]
}